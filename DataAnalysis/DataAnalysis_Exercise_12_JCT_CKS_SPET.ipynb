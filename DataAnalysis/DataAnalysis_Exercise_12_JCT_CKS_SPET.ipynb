{
 "cells": [
  {
   "cell_type": "markdown",
   "metadata": {},
   "source": [
    "# Exercise Set 12: Jacob Cardinal Tremblay, Charchit Kumar Sethi, and Sachin Pradeep Etakkepravan Thulicheri\n",
    "\n",
    "Due: **10:00 4 July 2022**\n",
    "\n",
    "Discussion: **13:00 8 July 2022**\n",
    "\n",
    "**Online submission** at via [ILIAS](https://www.ilias.uni-koeln.de/ilias/goto_uk_exc_4593683.html) in the directory Exercises / Übungen -> Submission of Exercises / Rückgabe des Übungsblätter"
   ]
  },
  {
   "cell_type": "code",
   "execution_count": 1,
   "metadata": {},
   "outputs": [],
   "source": [
    "import numpy as np\n",
    "import matplotlib.pyplot as plt\n",
    "import pandas as pd"
   ]
  },
  {
   "cell_type": "markdown",
   "metadata": {},
   "source": [
    "# 1. Simple SVD **[60 Points]**"
   ]
  },
  {
   "cell_type": "markdown",
   "metadata": {},
   "source": [
    "Perform singular-value decomposition on the following matrices. What are the $U$, $\\Sigma$, $V$ matrices? What are the corresponding *thin* matrices? **60 points**"
   ]
  },
  {
   "cell_type": "markdown",
   "metadata": {},
   "source": [
    "**a)** $\\left(\\begin{matrix} 0 & 2 \\\\ 3 & 1 \\\\ 5 & 0 \\end{matrix}\\right)$"
   ]
  },
  {
   "cell_type": "code",
   "execution_count": 2,
   "metadata": {},
   "outputs": [
    {
     "name": "stdout",
     "output_type": "stream",
     "text": [
      "The U matrix is:\n",
      "[[-0.03477147  0.91842879  0.3940552 ]\n",
      " [-0.52691105  0.31819292 -0.78811041]\n",
      " [-0.84920886 -0.2350358   0.47286624]]\n",
      "\n",
      "The Sigma matrix is:\n",
      "[[5.8572257  0.        ]\n",
      " [0.         2.16631187]]\n",
      "\n",
      "The V matrix is:\n",
      "[[-0.99480159 -0.10183217]\n",
      " [-0.10183217  0.99480159]]\n",
      "\n",
      "The thin matrix is:\n",
      "[[2.77555756e-17 2.00000000e+00]\n",
      " [3.00000000e+00 1.00000000e+00]\n",
      " [5.00000000e+00 8.88178420e-16]]\n"
     ]
    }
   ],
   "source": [
    "#Creating the matrix\n",
    "matrix1 = np.array(([0,2],[3,1],[5,0]))\n",
    "#Computing the SVD\n",
    "U, Sig, V = np.linalg.svd(matrix1)\n",
    "#Print out the resulting matrices of the SVD\n",
    "print(\"The U matrix is:\\n\" + str(U) + \"\\n\")\n",
    "print(\"The Sigma matrix is:\\n\" + str(np.diag(Sig)) + \"\\n\")\n",
    "print(\"The V matrix is:\\n\" + str(V) + \"\\n\")\n",
    "#Find the minimum size of matrix\n",
    "k = np.min(np.shape(matrix1))\n",
    "#Calculate the thin matrix by multiplying only the first two columns of U, Sig and V\n",
    "thin1 = np.matmul(np.matmul(U[:,:k], np.diag(Sig)), V)\n",
    "#Print the thin matrix\n",
    "print(\"The thin matrix is:\\n\" + str(thin1))"
   ]
  },
  {
   "cell_type": "markdown",
   "metadata": {},
   "source": [
    "We can see that our resulting thin matrix is correct as it is approximately equal to the initial matrix."
   ]
  },
  {
   "cell_type": "markdown",
   "metadata": {},
   "source": [
    "**b)** $\\left(\\begin{matrix} 0 & 3 & 5 \\\\ 2 & 1 & 0 \\end{matrix}\\right)$"
   ]
  },
  {
   "cell_type": "code",
   "execution_count": 3,
   "metadata": {},
   "outputs": [
    {
     "name": "stdout",
     "output_type": "stream",
     "text": [
      "The U matrix is:\n",
      "[[ 0.99480159 -0.10183217]\n",
      " [ 0.10183217  0.99480159]]\n",
      "\n",
      "The Sigma matrix is:\n",
      "[[5.8572257  0.        ]\n",
      " [0.         2.16631187]]\n",
      "\n",
      "The V matrix is:\n",
      "[[ 0.03477147  0.52691105  0.84920886]\n",
      " [ 0.91842879  0.31819292 -0.2350358 ]\n",
      " [ 0.3940552  -0.78811041  0.47286624]]\n",
      "\n",
      "The thin matrix is:\n",
      "[[ 8.04911693e-16  3.00000000e+00  5.00000000e+00]\n",
      " [ 2.00000000e+00  1.00000000e+00 -3.33066907e-16]]\n"
     ]
    }
   ],
   "source": [
    "#Creating the matrix\n",
    "matrix2 = np.array(([0,3,5],[2,1,0]))\n",
    "#Computing the SVD\n",
    "U, Sig, V = np.linalg.svd(matrix2)\n",
    "#Print out the resulting matrices of the SVD\n",
    "print(\"The U matrix is:\\n\" + str(U) + \"\\n\")\n",
    "print(\"The Sigma matrix is:\\n\" + str(np.diag(Sig)) + \"\\n\")\n",
    "print(\"The V matrix is:\\n\" + str(V) + \"\\n\")\n",
    "#Find the minimum size of matrix\n",
    "k = np.min(np.shape(matrix2))\n",
    "#Calculate the thin matrix by multiplying only the first two columns of U, Sig and V\n",
    "thin2 = np.matmul(np.matmul(U, np.diag(Sig)), V[:k,:])\n",
    "#Print the thin matrix\n",
    "print(\"The thin matrix is:\\n\" + str(thin2))"
   ]
  },
  {
   "cell_type": "markdown",
   "metadata": {},
   "source": [
    "We can see that our resulting thin matrix is correct as it is approximately equal to the initial matrix."
   ]
  },
  {
   "cell_type": "markdown",
   "metadata": {},
   "source": [
    "**c)** $\\left(\\begin{matrix} 0 & 2 & 3 &  0 \\end{matrix}\\right)$"
   ]
  },
  {
   "cell_type": "code",
   "execution_count": 4,
   "metadata": {},
   "outputs": [
    {
     "name": "stdout",
     "output_type": "stream",
     "text": [
      "The U matrix is:\n",
      "[[-1.]]\n",
      "\n",
      "The Sigma matrix is:\n",
      "[[3.60555128]]\n",
      "\n",
      "The V matrix is:\n",
      "[[ 0.         -0.5547002  -0.83205029  0.        ]\n",
      " [-0.5547002   0.69230769 -0.46153846  0.        ]\n",
      " [-0.83205029 -0.46153846  0.30769231  0.        ]\n",
      " [ 0.          0.          0.          1.        ]]\n",
      "\n",
      "The thin matrix is:\n",
      "[[0. 2. 3. 0.]]\n"
     ]
    }
   ],
   "source": [
    "#Creating the matrix\n",
    "matrix3 = np.array(([0,2,3,0],))\n",
    "#Computing the SVD\n",
    "U, Sig, V = np.linalg.svd(matrix3)\n",
    "#Print out the resulting matrices of the SVD\n",
    "print(\"The U matrix is:\\n\" + str(U) + \"\\n\")\n",
    "print(\"The Sigma matrix is:\\n\" + str(np.diag(Sig)) + \"\\n\")\n",
    "print(\"The V matrix is:\\n\" + str(V) + \"\\n\")\n",
    "#Find the minimum size of matrix\n",
    "k = np.min(np.shape(matrix3))\n",
    "#Calculate the thin matrix by multiplying only the first two columns of U, Sig and V\n",
    "thin3 = np.matmul(np.matmul(U, np.diag(Sig)), V[:k,:])\n",
    "#Print the thin matrix\n",
    "print(\"The thin matrix is:\\n\" + str(thin3))"
   ]
  },
  {
   "cell_type": "markdown",
   "metadata": {},
   "source": [
    "We can see that our resulting thin matrix is correct as it is equal to the initial matrix."
   ]
  },
  {
   "cell_type": "markdown",
   "metadata": {},
   "source": [
    "**d)** $\\left(\\begin{matrix} 2 & 3 \\\\ 1 & 5 \\end{matrix}\\right)$"
   ]
  },
  {
   "cell_type": "code",
   "execution_count": 5,
   "metadata": {},
   "outputs": [
    {
     "name": "stdout",
     "output_type": "stream",
     "text": [
      "The U matrix is:\n",
      "[[ 0.56694909  0.82375283]\n",
      " [ 0.82375283 -0.56694909]]\n",
      "\n",
      "The Sigma matrix is:\n",
      "[[6.14005494 0.        ]\n",
      " [0.         1.14005494]]\n",
      "\n",
      "The V matrix is:\n",
      "[[ 0.31883282  0.94781097]\n",
      " [ 0.94781097 -0.31883282]]\n",
      "\n",
      "The thin matrix is:\n",
      "[[2. 3.]\n",
      " [1. 5.]]\n"
     ]
    }
   ],
   "source": [
    "#Creating the matrix\n",
    "matrix4 = np.array(([2,3],[1,5]))\n",
    "#Computing the SVD\n",
    "U, Sig, V = np.linalg.svd(matrix4)\n",
    "#Print out the resulting matrices of the SVD\n",
    "print(\"The U matrix is:\\n\" + str(U) + \"\\n\")\n",
    "print(\"The Sigma matrix is:\\n\" + str(np.diag(Sig))+ \"\\n\")\n",
    "print(\"The V matrix is:\\n\" + str(V) + \"\\n\")\n",
    "#Find the minimum size of matrix\n",
    "k = np.min(np.shape(matrix4))\n",
    "#Calculate the thin matrix by multiplying only the first two columns of U, Sig and V\n",
    "thin4 = np.matmul(np.matmul(U, np.diag(Sig)), V)\n",
    "#Print the thin matrix\n",
    "print(\"The thin matrix is:\\n\" + str(thin4))"
   ]
  },
  {
   "cell_type": "markdown",
   "metadata": {},
   "source": [
    "We can see that our resulting thin matrix is correct as it is exactly equal to the initial matrix because k=n=m."
   ]
  },
  {
   "cell_type": "markdown",
   "metadata": {},
   "source": [
    "# 2. Linear Fitting **[40 Points]**"
   ]
  },
  {
   "cell_type": "markdown",
   "metadata": {},
   "source": [
    "Load the data in `lin.dat`. Perform a linear fit using SVD. What are the parameters of your linear fit? Plot the data with the best-fit line. **40 points**"
   ]
  },
  {
   "cell_type": "code",
   "execution_count": 6,
   "metadata": {},
   "outputs": [],
   "source": [
    "#Read data\n",
    "df = pd.read_table('lindat.sec', delim_whitespace=True, skiprows=1)\n",
    "df.columns=('x','y')"
   ]
  },
  {
   "cell_type": "code",
   "execution_count": 7,
   "metadata": {},
   "outputs": [],
   "source": [
    "#Define bias\n",
    "df['bias'] = [1]*len(df.x)"
   ]
  },
  {
   "cell_type": "code",
   "execution_count": 8,
   "metadata": {},
   "outputs": [],
   "source": [
    "#Define matrix for SVD regression\n",
    "A = np.matrix(df[['x', 'bias']])\n",
    "b = np.matrix(df.y).T"
   ]
  },
  {
   "cell_type": "code",
   "execution_count": 9,
   "metadata": {},
   "outputs": [],
   "source": [
    "#Perform the SVD calculation\n",
    "U, s, V = np.linalg.svd(A)"
   ]
  },
  {
   "cell_type": "code",
   "execution_count": 10,
   "metadata": {},
   "outputs": [],
   "source": [
    "#Get the pseudo-inverse of sigma matrix\n",
    "pinv_s = np.zeros(A.shape).T\n",
    "pinv_s[:2,:2] = np.diag(1/s)"
   ]
  },
  {
   "cell_type": "code",
   "execution_count": 11,
   "metadata": {},
   "outputs": [],
   "source": [
    "#Calculate fit parameters\n",
    "x_svd = V.T.dot(pinv_s).dot(U.T).dot(b)"
   ]
  },
  {
   "cell_type": "code",
   "execution_count": 12,
   "metadata": {},
   "outputs": [
    {
     "data": {
      "text/plain": [
       "matrix([[1.87754613],\n",
       "        [5.78714275]])"
      ]
     },
     "execution_count": 12,
     "metadata": {},
     "output_type": "execute_result"
    }
   ],
   "source": [
    "#Fit parameters\n",
    "x_svd"
   ]
  },
  {
   "cell_type": "markdown",
   "metadata": {},
   "source": [
    "The fit parameters are a slope of 1.878 and a y-intercept of 5.787."
   ]
  },
  {
   "cell_type": "code",
   "execution_count": 13,
   "metadata": {},
   "outputs": [],
   "source": [
    "#Define the fit equation\n",
    "fit = df.x*x_svd[0,0] + x_svd[1,0]"
   ]
  },
  {
   "cell_type": "code",
   "execution_count": 14,
   "metadata": {},
   "outputs": [
    {
     "data": {
      "image/png": "[encoded data removed]",
      "text/plain": [
       "<Figure size 432x288 with 1 Axes>"
      ]
     },
     "metadata": {
      "needs_background": "light"
     },
     "output_type": "display_data"
    }
   ],
   "source": [
    "#Plot the fit\n",
    "plt.plot(df.x,df.y,'.', label='data')\n",
    "plt.plot(df.x, fit, '-', label='SVD fit')\n",
    "plt.xlabel('x-data [Arbitrary Units]')\n",
    "plt.ylabel('y-data [Arbitrary Units]')\n",
    "plt.legend()\n",
    "plt.show()"
   ]
  }
 ],
 "metadata": {
  "kernelspec": {
   "display_name": "Python 3 (ipykernel)",
   "language": "python",
   "name": "python3"
  },
  "language_info": {
   "codemirror_mode": {
    "name": "ipython",
    "version": 3
   },
   "file_extension": ".py",
   "mimetype": "text/x-python",
   "name": "python",
   "nbconvert_exporter": "python",
   "pygments_lexer": "ipython3",
   "version": "3.7.4"
  }
 },
 "nbformat": 4,
 "nbformat_minor": 4
}
