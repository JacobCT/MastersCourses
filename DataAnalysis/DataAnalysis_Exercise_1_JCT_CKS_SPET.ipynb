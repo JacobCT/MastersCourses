{
 "cells": [
  {
   "cell_type": "markdown",
   "metadata": {},
   "source": [
    "# Exercise Set 1: Jacob Cardinal Tremblay, Charchit Kumar Sethi, and Sachin Pradeep Etakkepravan Thulicheri\n",
    "\n",
    "Due: **10:00 11 April 2022**\n",
    "\n",
    "Discussion: **12:00 22 April 2022**\n",
    "\n",
    "**Online submission** at via [ILIAS](https://www.ilias.uni-koeln.de/ilias/goto_uk_exc_4593683.html) in the directory Exercises / Übungen -> Submission of Exercises / Rückgabe des Übungsblätter"
   ]
  },
  {
   "cell_type": "code",
   "execution_count": 1,
   "metadata": {},
   "outputs": [],
   "source": [
    "import pandas as pd\n",
    "pd.options.mode.chained_assignment = None  # default='warn\n",
    "import matplotlib.pyplot as plt\n",
    "import numpy as np"
   ]
  },
  {
   "cell_type": "markdown",
   "metadata": {
    "tags": []
   },
   "source": [
    "# 1. Sampling [100 points]\n",
    "\n",
    "The Behavioral Risk Factor Surveillance System (BRFSS) is an annual telephone survey of 350,000 people in the United States. As its\n",
    "name implies, the BRFSS is designed to identify risk factors in the adult population and report emerging health trends. For example,\n",
    "respondents are asked about their diet and weekly physical activity, their HIV/AIDS status, possible tobacco use, and even their level of\n",
    "healthcare coverage. The BRFSS Web site (http://www.cdc.gov/brfss) contains a complete description of the survey, including the research\n",
    "questions that motivate the study and many interesting results derived from the data."
   ]
  },
  {
   "cell_type": "markdown",
   "metadata": {},
   "source": [
    "## Download the ASCII data file from the course web site (Name: `cdbrfss1999.zip`)\n",
    "\n",
    "The file `Codebook99.rtf` contains a detailed explanation of the individual data entries. Use the\n",
    "Cookbook to understand the data columns that you are working on in this problem."
   ]
  },
  {
   "cell_type": "markdown",
   "metadata": {},
   "source": [
    "## Large data\n",
    "\n",
    "The dataset contains 159989 entries."
   ]
  },
  {
   "cell_type": "markdown",
   "metadata": {},
   "source": [
    "**a.** Take a sample of 30000 from this dataset and export it to an ASCII file. Make sure that your method allows to draw more than one sample from the population. **[5 points]**"
   ]
  },
  {
   "cell_type": "code",
   "execution_count": 2,
   "metadata": {},
   "outputs": [
    {
     "name": "stderr",
     "output_type": "stream",
     "text": [
      "C:\\Users\\jacob\\Anaconda3\\lib\\site-packages\\IPython\\core\\interactiveshell.py:3444: DtypeWarning: Columns (8) have mixed types.Specify dtype option on import or set low_memory=False.\n",
      "  exec(code_obj, self.user_global_ns, self.user_ns)\n"
     ]
    }
   ],
   "source": [
    "#Instead exporting to a new file, we create a new dataframe with the sample data. New dataframes are created throughout\n",
    "#this exercise rather than exporting to new files.\n",
    "df = pd.read_table(\"C:/Users/jacob/Desktop/BCGS/Courses/Semester 2/Data Analysis/Exercise 1/cdbrfss1999.csv\",sep=',') #Reads in the data and creates a dataframe\n",
    "randomsample_df = df.sample(n=30000, random_state=1) #Take a random sample of the original data and create a new dataframe for it"
   ]
  },
  {
   "cell_type": "markdown",
   "metadata": {},
   "source": [
    "**b.** Discuss your method to do so. Is your sampling a \"good sample\" in the sense that it is representative for the larger \"population\"? **[10 points]**"
   ]
  },
  {
   "cell_type": "markdown",
   "metadata": {},
   "source": [
    "Random sampling is a good method to produce a \"good sample\" for this dataset as the dataset is very large. This means that any outliers will have a statistically small impact and that there is a higher probability that the sample is representative of the population. It also does not appear that there is obvious bias in the sample of the population surveyed, therefore random sampling should be appropriate."
   ]
  },
  {
   "cell_type": "markdown",
   "metadata": {},
   "source": [
    "## Large columns\n",
    "\n",
    "Each case in the dataset can have up to 241 variables. Each one of these variables corresponds to a question that was asked in the survey. For example, for **genhlth**, respondents were asked to evaluate their general health, responding either excellent, very good, good, fair or poor. The **exerany** variable indicates whether the respondent exercised in the past month (1) or did not (0). Likewise, **hlthplan** indicates whether the respondent had some form of health coverage (1) or did not (0). The **smoke100** variable indicates whether the respondent had smoked at least 100 cigarettes in her lifetime. The other variables record the respondent’s height in inches (**hti**) and feet (**htf**), **weight** in pounds as well as their desired weight, **wtdesire**, **age** in years, and **sex**."
   ]
  },
  {
   "cell_type": "markdown",
   "metadata": {},
   "source": [
    "**a.** Locate the columns corresponding to the variables **genhlth**, **exerany**, **htf**, **hti**, **smoke100**, **weight**, **wtdesire**, **age**, and **sex**."
   ]
  },
  {
   "cell_type": "markdown",
   "metadata": {
    "slideshow": {
     "slide_type": "-"
    },
    "tags": [
     "problem_sheet"
    ]
   },
   "source": [
    "**b.** Reduce your sample to include only these variables and export it to an ASCII file. **[5 points]**"
   ]
  },
  {
   "cell_type": "code",
   "execution_count": 3,
   "metadata": {},
   "outputs": [],
   "source": [
    "sample_df = randomsample_df[['GENHLTH','EXERANY','HTF','HTI','SMOKE100','WEIGHT','WTDESIRE','AGE','SEX']]"
   ]
  },
  {
   "cell_type": "markdown",
   "metadata": {},
   "source": [
    "**c.** How many cases and how many variables are there in your sample? **[5 points]**\n",
    "- (c) 30,000 cases; 9 variables\n",
    "\n",
    "The answer is c since every person (row) is considered as a case, and every column corresponds to a variable. We have brought the variabled from 241 to 9, so there are now only 9 variables."
   ]
  },
  {
   "cell_type": "markdown",
   "metadata": {},
   "source": [
    "**d.** What type of variable is **genhlth**? **[5 points]**\n",
    "\n",
    "- (d) categorical, ordinal\n",
    "\n",
    "genhlth is a categorial variable since it is something which is being categorized and is not something which has an inherent numerical value. This data is also ordinal as it as the \"distance\" between intervals is not known, and are not clearly defined."
   ]
  },
  {
   "cell_type": "markdown",
   "metadata": {},
   "source": [
    "**e.** What type of variable is **weight**? **[5 points]**\n",
    "\n",
    "- (a) numerical, continuous\n",
    "\n",
    "weight can be assigned a numerical value, therefore it is a numerical variable. It is also continuous as the weight scale is continous and someone's weight is not a discrete value."
   ]
  },
  {
   "cell_type": "markdown",
   "metadata": {},
   "source": [
    "**f.** What type of variable is **smoke100**? **[5 points]**\n",
    " \n",
    " - (c) categorical (not ordinal)\n",
    "\n",
    "smoke100 is a categorial variable as the response is categorized and is not a numerical value. It is also not ordinal, since the response is clear between yes or no (Don't know/Not sure and Refused however may ordinal?)."
   ]
  },
  {
   "cell_type": "markdown",
   "metadata": {},
   "source": [
    "## One Bar chart\n",
    "\n",
    "Take all **genhlth** entries from your sample and draw a bar chart to visualize how the cases are distributed across the possible categories. **[10 points]**"
   ]
  },
  {
   "cell_type": "code",
   "execution_count": 4,
   "metadata": {},
   "outputs": [],
   "source": [
    "#Create a variable that represents the number of cases for each unique value in GENHLTH.\n",
    "dist = sample_df.GENHLTH.value_counts().sort_index()"
   ]
  },
  {
   "cell_type": "code",
   "execution_count": 5,
   "metadata": {},
   "outputs": [
    {
     "data": {
      "text/plain": [
       "1    6833\n",
       "2    9869\n",
       "3    8540\n",
       "4    3403\n",
       "5    1302\n",
       "7      47\n",
       "9       6\n",
       "Name: GENHLTH, dtype: int64"
      ]
     },
     "execution_count": 5,
     "metadata": {},
     "output_type": "execute_result"
    }
   ],
   "source": [
    "dist"
   ]
  },
  {
   "cell_type": "code",
   "execution_count": 6,
   "metadata": {},
   "outputs": [
    {
     "data": {
      "image/png": "[encoded data removed]",
      "text/plain": [
       "<Figure size 432x288 with 1 Axes>"
      ]
     },
     "metadata": {
      "needs_background": "light"
     },
     "output_type": "display_data"
    }
   ],
   "source": [
    "#Create a variable which contains each category.\n",
    "cat = np.sort(sample_df.GENHLTH.unique())\n",
    "#Create a bar plot of the number of cases per GENHLTH ranking.\n",
    "plt.bar(cat, dist)\n",
    "plt.xticks(cat)\n",
    "plt.title(\"Distribution of Cases for Each Category\")\n",
    "plt.xlabel(\"General Health ranking\")\n",
    "plt.ylabel(\"Number of cases\")\n",
    "plt.show()"
   ]
  },
  {
   "cell_type": "markdown",
   "metadata": {},
   "source": [
    "## Two Bar Charts\n",
    "\n",
    "Combine the **smoke100** with the **genhlth** entries from your sample and draw *two* bar charts, one showing the health of the smokers and a second one showing the health of the non-smokers. **[20 points]**"
   ]
  },
  {
   "cell_type": "code",
   "execution_count": 7,
   "metadata": {},
   "outputs": [],
   "source": [
    "#Create two new variables to represent the smokers and non-smokers. \n",
    "smoke = sample_df[sample_df.SMOKE100 == 1]\n",
    "nosmoke = sample_df[sample_df.SMOKE100 == 2]"
   ]
  },
  {
   "cell_type": "markdown",
   "metadata": {},
   "source": [
    "In this case we only consider the responses of 1 and 2 because responses of 3 or 4 do not answer the question. Nonetheless, those who answered 3 or 4 are a very small part of the dataset therefore not including them in our data does not negate the results."
   ]
  },
  {
   "cell_type": "code",
   "execution_count": 8,
   "metadata": {},
   "outputs": [],
   "source": [
    "#Create a new variable to represent the GENHLTH distribution for smoker and non-smokers.\n",
    "smoke_dist = smoke.GENHLTH.value_counts().sort_index()\n",
    "nosmoke_dist = nosmoke.GENHLTH.value_counts().sort_index()"
   ]
  },
  {
   "cell_type": "code",
   "execution_count": 9,
   "metadata": {},
   "outputs": [
    {
     "data": {
      "image/png": "[encoded data removed]",
      "text/plain": [
       "<Figure size 864x360 with 2 Axes>"
      ]
     },
     "metadata": {
      "needs_background": "light"
     },
     "output_type": "display_data"
    }
   ],
   "source": [
    "#Plot the distribution of GENHLTH for smokers and non-smokers.\n",
    "fig, ax = plt.subplots(1, 2, figsize=(12,5))\n",
    "ax[0].bar(cat, smoke_dist)\n",
    "ax[0].set_xticks(cat)\n",
    "ax[0].set_title(\"Distribution of Cases for Each Category \\n Only Smokers\")\n",
    "ax[0].set_xlabel(\"General Health ranking\")\n",
    "ax[0].set_ylabel(\"Number of Cases\")\n",
    "ax[1].bar(cat, nosmoke_dist)\n",
    "ax[1].set_xticks(cat)\n",
    "ax[1].set_title(\"Distribution of Cases for Each Category \\n Non Smokers\")\n",
    "ax[1].set_xlabel(\"General Health ranking\")\n",
    "ax[1].set_ylabel(\"Number of Cases\")\n",
    "plt.show()"
   ]
  },
  {
   "cell_type": "markdown",
   "metadata": {},
   "source": [
    "## BMI\n",
    "\n",
    "Next let’s consider a new variable **bmi** that doesn’t show up directly in this data set: Body Mass Index (BMI).  **[30 points]**\n",
    "\n",
    "BMI is a weight to height ratio and can be calculated as.\n",
    "\n",
    "$$  \\mathrm{BMI} = \\frac{\\mathrm{weight(lb)}}{\\mathrm{height(in)}^2} * 703$$\n",
    "\n",
    "703 is the approximate conversion factor to change units to metric (meters and kilograms)\n",
    "from imperial (inches and pounds). Compute the bmi for each case in your sample and add it to\n",
    "the sample (e.g. as additional column). Visualize the distribution of the BMI in your sample.\n",
    "\n",
    "**ATTENTION**: Remember, that the height was given in feet and inches separately. make sure\n",
    "to compute the total height in inches!"
   ]
  },
  {
   "cell_type": "code",
   "execution_count": 10,
   "metadata": {},
   "outputs": [
    {
     "data": {
      "text/html": [
       "<div>\n",
       "<style scoped>\n",
       "    .dataframe tbody tr th:only-of-type {\n",
       "        vertical-align: middle;\n",
       "    }\n",
       "\n",
       "    .dataframe tbody tr th {\n",
       "        vertical-align: top;\n",
       "    }\n",
       "\n",
       "    .dataframe thead th {\n",
       "        text-align: right;\n",
       "    }\n",
       "</style>\n",
       "<table border=\"1\" class=\"dataframe\">\n",
       "  <thead>\n",
       "    <tr style=\"text-align: right;\">\n",
       "      <th></th>\n",
       "      <th>GENHLTH</th>\n",
       "      <th>EXERANY</th>\n",
       "      <th>HTF</th>\n",
       "      <th>HTI</th>\n",
       "      <th>SMOKE100</th>\n",
       "      <th>WEIGHT</th>\n",
       "      <th>WTDESIRE</th>\n",
       "      <th>AGE</th>\n",
       "      <th>SEX</th>\n",
       "    </tr>\n",
       "  </thead>\n",
       "  <tbody>\n",
       "    <tr>\n",
       "      <th>143787</th>\n",
       "      <td>2</td>\n",
       "      <td>1.0</td>\n",
       "      <td>5</td>\n",
       "      <td>6</td>\n",
       "      <td>2</td>\n",
       "      <td>140</td>\n",
       "      <td>134.0</td>\n",
       "      <td>19</td>\n",
       "      <td>2</td>\n",
       "    </tr>\n",
       "    <tr>\n",
       "      <th>34670</th>\n",
       "      <td>2</td>\n",
       "      <td>NaN</td>\n",
       "      <td>5</td>\n",
       "      <td>8</td>\n",
       "      <td>1</td>\n",
       "      <td>140</td>\n",
       "      <td>NaN</td>\n",
       "      <td>30</td>\n",
       "      <td>2</td>\n",
       "    </tr>\n",
       "    <tr>\n",
       "      <th>111610</th>\n",
       "      <td>1</td>\n",
       "      <td>NaN</td>\n",
       "      <td>5</td>\n",
       "      <td>7</td>\n",
       "      <td>1</td>\n",
       "      <td>150</td>\n",
       "      <td>NaN</td>\n",
       "      <td>52</td>\n",
       "      <td>2</td>\n",
       "    </tr>\n",
       "    <tr>\n",
       "      <th>153124</th>\n",
       "      <td>3</td>\n",
       "      <td>NaN</td>\n",
       "      <td>5</td>\n",
       "      <td>10</td>\n",
       "      <td>2</td>\n",
       "      <td>204</td>\n",
       "      <td>NaN</td>\n",
       "      <td>51</td>\n",
       "      <td>1</td>\n",
       "    </tr>\n",
       "    <tr>\n",
       "      <th>152667</th>\n",
       "      <td>2</td>\n",
       "      <td>NaN</td>\n",
       "      <td>5</td>\n",
       "      <td>4</td>\n",
       "      <td>2</td>\n",
       "      <td>180</td>\n",
       "      <td>NaN</td>\n",
       "      <td>72</td>\n",
       "      <td>2</td>\n",
       "    </tr>\n",
       "  </tbody>\n",
       "</table>\n",
       "</div>"
      ],
      "text/plain": [
       "        GENHLTH  EXERANY  HTF  HTI  SMOKE100  WEIGHT  WTDESIRE  AGE  SEX\n",
       "143787        2      1.0    5    6         2     140     134.0   19    2\n",
       "34670         2      NaN    5    8         1     140       NaN   30    2\n",
       "111610        1      NaN    5    7         1     150       NaN   52    2\n",
       "153124        3      NaN    5   10         2     204       NaN   51    1\n",
       "152667        2      NaN    5    4         2     180       NaN   72    2"
      ]
     },
     "execution_count": 10,
     "metadata": {},
     "output_type": "execute_result"
    }
   ],
   "source": [
    "#Show a exerpt of the dataframe.\n",
    "sample_df.head()"
   ]
  },
  {
   "cell_type": "code",
   "execution_count": 11,
   "metadata": {},
   "outputs": [],
   "source": [
    "#Create a new column for the total height in inches \n",
    "sample_df['heightin'] = sample_df.HTF * 12 + sample_df.HTI"
   ]
  },
  {
   "cell_type": "code",
   "execution_count": 12,
   "metadata": {},
   "outputs": [
    {
     "data": {
      "text/html": [
       "<div>\n",
       "<style scoped>\n",
       "    .dataframe tbody tr th:only-of-type {\n",
       "        vertical-align: middle;\n",
       "    }\n",
       "\n",
       "    .dataframe tbody tr th {\n",
       "        vertical-align: top;\n",
       "    }\n",
       "\n",
       "    .dataframe thead th {\n",
       "        text-align: right;\n",
       "    }\n",
       "</style>\n",
       "<table border=\"1\" class=\"dataframe\">\n",
       "  <thead>\n",
       "    <tr style=\"text-align: right;\">\n",
       "      <th></th>\n",
       "      <th>GENHLTH</th>\n",
       "      <th>EXERANY</th>\n",
       "      <th>HTF</th>\n",
       "      <th>HTI</th>\n",
       "      <th>SMOKE100</th>\n",
       "      <th>WEIGHT</th>\n",
       "      <th>WTDESIRE</th>\n",
       "      <th>AGE</th>\n",
       "      <th>SEX</th>\n",
       "      <th>heightin</th>\n",
       "    </tr>\n",
       "  </thead>\n",
       "  <tbody>\n",
       "    <tr>\n",
       "      <th>143787</th>\n",
       "      <td>2</td>\n",
       "      <td>1.0</td>\n",
       "      <td>5</td>\n",
       "      <td>6</td>\n",
       "      <td>2</td>\n",
       "      <td>140</td>\n",
       "      <td>134.0</td>\n",
       "      <td>19</td>\n",
       "      <td>2</td>\n",
       "      <td>66</td>\n",
       "    </tr>\n",
       "    <tr>\n",
       "      <th>34670</th>\n",
       "      <td>2</td>\n",
       "      <td>NaN</td>\n",
       "      <td>5</td>\n",
       "      <td>8</td>\n",
       "      <td>1</td>\n",
       "      <td>140</td>\n",
       "      <td>NaN</td>\n",
       "      <td>30</td>\n",
       "      <td>2</td>\n",
       "      <td>68</td>\n",
       "    </tr>\n",
       "    <tr>\n",
       "      <th>111610</th>\n",
       "      <td>1</td>\n",
       "      <td>NaN</td>\n",
       "      <td>5</td>\n",
       "      <td>7</td>\n",
       "      <td>1</td>\n",
       "      <td>150</td>\n",
       "      <td>NaN</td>\n",
       "      <td>52</td>\n",
       "      <td>2</td>\n",
       "      <td>67</td>\n",
       "    </tr>\n",
       "    <tr>\n",
       "      <th>153124</th>\n",
       "      <td>3</td>\n",
       "      <td>NaN</td>\n",
       "      <td>5</td>\n",
       "      <td>10</td>\n",
       "      <td>2</td>\n",
       "      <td>204</td>\n",
       "      <td>NaN</td>\n",
       "      <td>51</td>\n",
       "      <td>1</td>\n",
       "      <td>70</td>\n",
       "    </tr>\n",
       "    <tr>\n",
       "      <th>152667</th>\n",
       "      <td>2</td>\n",
       "      <td>NaN</td>\n",
       "      <td>5</td>\n",
       "      <td>4</td>\n",
       "      <td>2</td>\n",
       "      <td>180</td>\n",
       "      <td>NaN</td>\n",
       "      <td>72</td>\n",
       "      <td>2</td>\n",
       "      <td>64</td>\n",
       "    </tr>\n",
       "  </tbody>\n",
       "</table>\n",
       "</div>"
      ],
      "text/plain": [
       "        GENHLTH  EXERANY  HTF  HTI  SMOKE100  WEIGHT  WTDESIRE  AGE  SEX  \\\n",
       "143787        2      1.0    5    6         2     140     134.0   19    2   \n",
       "34670         2      NaN    5    8         1     140       NaN   30    2   \n",
       "111610        1      NaN    5    7         1     150       NaN   52    2   \n",
       "153124        3      NaN    5   10         2     204       NaN   51    1   \n",
       "152667        2      NaN    5    4         2     180       NaN   72    2   \n",
       "\n",
       "        heightin  \n",
       "143787        66  \n",
       "34670         68  \n",
       "111610        67  \n",
       "153124        70  \n",
       "152667        64  "
      ]
     },
     "execution_count": 12,
     "metadata": {},
     "output_type": "execute_result"
    }
   ],
   "source": [
    "#Check to make sure the column was added and the values make sense.\n",
    "sample_df.head()"
   ]
  },
  {
   "cell_type": "code",
   "execution_count": 13,
   "metadata": {},
   "outputs": [],
   "source": [
    "#Calculate the BMI and create a new dataframe.\n",
    "sample_df['BMI'] = (sample_df.WEIGHT / sample_df.heightin**2) * 703"
   ]
  },
  {
   "cell_type": "code",
   "execution_count": 14,
   "metadata": {
    "scrolled": true
   },
   "outputs": [
    {
     "data": {
      "text/html": [
       "<div>\n",
       "<style scoped>\n",
       "    .dataframe tbody tr th:only-of-type {\n",
       "        vertical-align: middle;\n",
       "    }\n",
       "\n",
       "    .dataframe tbody tr th {\n",
       "        vertical-align: top;\n",
       "    }\n",
       "\n",
       "    .dataframe thead th {\n",
       "        text-align: right;\n",
       "    }\n",
       "</style>\n",
       "<table border=\"1\" class=\"dataframe\">\n",
       "  <thead>\n",
       "    <tr style=\"text-align: right;\">\n",
       "      <th></th>\n",
       "      <th>GENHLTH</th>\n",
       "      <th>EXERANY</th>\n",
       "      <th>HTF</th>\n",
       "      <th>HTI</th>\n",
       "      <th>SMOKE100</th>\n",
       "      <th>WEIGHT</th>\n",
       "      <th>WTDESIRE</th>\n",
       "      <th>AGE</th>\n",
       "      <th>SEX</th>\n",
       "      <th>heightin</th>\n",
       "      <th>BMI</th>\n",
       "    </tr>\n",
       "  </thead>\n",
       "  <tbody>\n",
       "    <tr>\n",
       "      <th>143787</th>\n",
       "      <td>2</td>\n",
       "      <td>1.0</td>\n",
       "      <td>5</td>\n",
       "      <td>6</td>\n",
       "      <td>2</td>\n",
       "      <td>140</td>\n",
       "      <td>134.0</td>\n",
       "      <td>19</td>\n",
       "      <td>2</td>\n",
       "      <td>66</td>\n",
       "      <td>22.594123</td>\n",
       "    </tr>\n",
       "    <tr>\n",
       "      <th>34670</th>\n",
       "      <td>2</td>\n",
       "      <td>NaN</td>\n",
       "      <td>5</td>\n",
       "      <td>8</td>\n",
       "      <td>1</td>\n",
       "      <td>140</td>\n",
       "      <td>NaN</td>\n",
       "      <td>30</td>\n",
       "      <td>2</td>\n",
       "      <td>68</td>\n",
       "      <td>21.284602</td>\n",
       "    </tr>\n",
       "    <tr>\n",
       "      <th>111610</th>\n",
       "      <td>1</td>\n",
       "      <td>NaN</td>\n",
       "      <td>5</td>\n",
       "      <td>7</td>\n",
       "      <td>1</td>\n",
       "      <td>150</td>\n",
       "      <td>NaN</td>\n",
       "      <td>52</td>\n",
       "      <td>2</td>\n",
       "      <td>67</td>\n",
       "      <td>23.490755</td>\n",
       "    </tr>\n",
       "    <tr>\n",
       "      <th>153124</th>\n",
       "      <td>3</td>\n",
       "      <td>NaN</td>\n",
       "      <td>5</td>\n",
       "      <td>10</td>\n",
       "      <td>2</td>\n",
       "      <td>204</td>\n",
       "      <td>NaN</td>\n",
       "      <td>51</td>\n",
       "      <td>1</td>\n",
       "      <td>70</td>\n",
       "      <td>29.267755</td>\n",
       "    </tr>\n",
       "    <tr>\n",
       "      <th>152667</th>\n",
       "      <td>2</td>\n",
       "      <td>NaN</td>\n",
       "      <td>5</td>\n",
       "      <td>4</td>\n",
       "      <td>2</td>\n",
       "      <td>180</td>\n",
       "      <td>NaN</td>\n",
       "      <td>72</td>\n",
       "      <td>2</td>\n",
       "      <td>64</td>\n",
       "      <td>30.893555</td>\n",
       "    </tr>\n",
       "  </tbody>\n",
       "</table>\n",
       "</div>"
      ],
      "text/plain": [
       "        GENHLTH  EXERANY  HTF  HTI  SMOKE100  WEIGHT  WTDESIRE  AGE  SEX  \\\n",
       "143787        2      1.0    5    6         2     140     134.0   19    2   \n",
       "34670         2      NaN    5    8         1     140       NaN   30    2   \n",
       "111610        1      NaN    5    7         1     150       NaN   52    2   \n",
       "153124        3      NaN    5   10         2     204       NaN   51    1   \n",
       "152667        2      NaN    5    4         2     180       NaN   72    2   \n",
       "\n",
       "        heightin        BMI  \n",
       "143787        66  22.594123  \n",
       "34670         68  21.284602  \n",
       "111610        67  23.490755  \n",
       "153124        70  29.267755  \n",
       "152667        64  30.893555  "
      ]
     },
     "execution_count": 14,
     "metadata": {},
     "output_type": "execute_result"
    }
   ],
   "source": [
    "#Check to make sure the column was added and the values make sense.\n",
    "sample_df.head()"
   ]
  },
  {
   "cell_type": "code",
   "execution_count": 15,
   "metadata": {},
   "outputs": [
    {
     "data": {
      "image/png": "[encoded data removed]",
      "text/plain": [
       "<Figure size 432x288 with 1 Axes>"
      ]
     },
     "metadata": {
      "needs_background": "light"
     },
     "output_type": "display_data"
    }
   ],
   "source": [
    "#Plot the distribution of BMI.\n",
    "plt.hist(sample_df.BMI, bins=20)\n",
    "plt.title('Distribution of the BMI')\n",
    "plt.xlabel('BMI')\n",
    "plt.ylabel('Number of Cases')\n",
    "plt.show()"
   ]
  },
  {
   "cell_type": "markdown",
   "metadata": {},
   "source": [
    "Below we investigate the outliers in the BMI. We can see that there exists some bad data (especially in the weight column). In order to better visualise the distribution, we will also plot the distribution for BMI under 100."
   ]
  },
  {
   "cell_type": "code",
   "execution_count": 16,
   "metadata": {},
   "outputs": [
    {
     "data": {
      "text/html": [
       "<div>\n",
       "<style scoped>\n",
       "    .dataframe tbody tr th:only-of-type {\n",
       "        vertical-align: middle;\n",
       "    }\n",
       "\n",
       "    .dataframe tbody tr th {\n",
       "        vertical-align: top;\n",
       "    }\n",
       "\n",
       "    .dataframe thead th {\n",
       "        text-align: right;\n",
       "    }\n",
       "</style>\n",
       "<table border=\"1\" class=\"dataframe\">\n",
       "  <thead>\n",
       "    <tr style=\"text-align: right;\">\n",
       "      <th></th>\n",
       "      <th>GENHLTH</th>\n",
       "      <th>EXERANY</th>\n",
       "      <th>HTF</th>\n",
       "      <th>HTI</th>\n",
       "      <th>SMOKE100</th>\n",
       "      <th>WEIGHT</th>\n",
       "      <th>WTDESIRE</th>\n",
       "      <th>AGE</th>\n",
       "      <th>SEX</th>\n",
       "      <th>heightin</th>\n",
       "      <th>BMI</th>\n",
       "    </tr>\n",
       "  </thead>\n",
       "  <tbody>\n",
       "    <tr>\n",
       "      <th>125238</th>\n",
       "      <td>2</td>\n",
       "      <td>NaN</td>\n",
       "      <td>5</td>\n",
       "      <td>4</td>\n",
       "      <td>2</td>\n",
       "      <td>777</td>\n",
       "      <td>NaN</td>\n",
       "      <td>30</td>\n",
       "      <td>2</td>\n",
       "      <td>64</td>\n",
       "      <td>133.357178</td>\n",
       "    </tr>\n",
       "    <tr>\n",
       "      <th>151999</th>\n",
       "      <td>2</td>\n",
       "      <td>NaN</td>\n",
       "      <td>5</td>\n",
       "      <td>0</td>\n",
       "      <td>2</td>\n",
       "      <td>777</td>\n",
       "      <td>NaN</td>\n",
       "      <td>7</td>\n",
       "      <td>2</td>\n",
       "      <td>60</td>\n",
       "      <td>151.730833</td>\n",
       "    </tr>\n",
       "    <tr>\n",
       "      <th>41722</th>\n",
       "      <td>3</td>\n",
       "      <td>NaN</td>\n",
       "      <td>5</td>\n",
       "      <td>3</td>\n",
       "      <td>2</td>\n",
       "      <td>777</td>\n",
       "      <td>NaN</td>\n",
       "      <td>43</td>\n",
       "      <td>2</td>\n",
       "      <td>63</td>\n",
       "      <td>137.624339</td>\n",
       "    </tr>\n",
       "    <tr>\n",
       "      <th>6870</th>\n",
       "      <td>3</td>\n",
       "      <td>NaN</td>\n",
       "      <td>5</td>\n",
       "      <td>6</td>\n",
       "      <td>1</td>\n",
       "      <td>999</td>\n",
       "      <td>NaN</td>\n",
       "      <td>51</td>\n",
       "      <td>2</td>\n",
       "      <td>66</td>\n",
       "      <td>161.225207</td>\n",
       "    </tr>\n",
       "    <tr>\n",
       "      <th>45785</th>\n",
       "      <td>3</td>\n",
       "      <td>NaN</td>\n",
       "      <td>5</td>\n",
       "      <td>4</td>\n",
       "      <td>1</td>\n",
       "      <td>999</td>\n",
       "      <td>NaN</td>\n",
       "      <td>55</td>\n",
       "      <td>2</td>\n",
       "      <td>64</td>\n",
       "      <td>171.459229</td>\n",
       "    </tr>\n",
       "    <tr>\n",
       "      <th>...</th>\n",
       "      <td>...</td>\n",
       "      <td>...</td>\n",
       "      <td>...</td>\n",
       "      <td>...</td>\n",
       "      <td>...</td>\n",
       "      <td>...</td>\n",
       "      <td>...</td>\n",
       "      <td>...</td>\n",
       "      <td>...</td>\n",
       "      <td>...</td>\n",
       "      <td>...</td>\n",
       "    </tr>\n",
       "    <tr>\n",
       "      <th>71479</th>\n",
       "      <td>2</td>\n",
       "      <td>1.0</td>\n",
       "      <td>5</td>\n",
       "      <td>2</td>\n",
       "      <td>2</td>\n",
       "      <td>999</td>\n",
       "      <td>NaN</td>\n",
       "      <td>44</td>\n",
       "      <td>2</td>\n",
       "      <td>62</td>\n",
       "      <td>182.699532</td>\n",
       "    </tr>\n",
       "    <tr>\n",
       "      <th>89276</th>\n",
       "      <td>5</td>\n",
       "      <td>2.0</td>\n",
       "      <td>5</td>\n",
       "      <td>2</td>\n",
       "      <td>1</td>\n",
       "      <td>999</td>\n",
       "      <td>NaN</td>\n",
       "      <td>67</td>\n",
       "      <td>2</td>\n",
       "      <td>62</td>\n",
       "      <td>182.699532</td>\n",
       "    </tr>\n",
       "    <tr>\n",
       "      <th>79691</th>\n",
       "      <td>3</td>\n",
       "      <td>NaN</td>\n",
       "      <td>5</td>\n",
       "      <td>7</td>\n",
       "      <td>1</td>\n",
       "      <td>999</td>\n",
       "      <td>NaN</td>\n",
       "      <td>9</td>\n",
       "      <td>2</td>\n",
       "      <td>67</td>\n",
       "      <td>156.448429</td>\n",
       "    </tr>\n",
       "    <tr>\n",
       "      <th>18108</th>\n",
       "      <td>2</td>\n",
       "      <td>NaN</td>\n",
       "      <td>5</td>\n",
       "      <td>4</td>\n",
       "      <td>2</td>\n",
       "      <td>999</td>\n",
       "      <td>NaN</td>\n",
       "      <td>9</td>\n",
       "      <td>2</td>\n",
       "      <td>64</td>\n",
       "      <td>171.459229</td>\n",
       "    </tr>\n",
       "    <tr>\n",
       "      <th>53809</th>\n",
       "      <td>5</td>\n",
       "      <td>NaN</td>\n",
       "      <td>5</td>\n",
       "      <td>2</td>\n",
       "      <td>1</td>\n",
       "      <td>999</td>\n",
       "      <td>NaN</td>\n",
       "      <td>37</td>\n",
       "      <td>2</td>\n",
       "      <td>62</td>\n",
       "      <td>182.699532</td>\n",
       "    </tr>\n",
       "  </tbody>\n",
       "</table>\n",
       "<p>887 rows × 11 columns</p>\n",
       "</div>"
      ],
      "text/plain": [
       "        GENHLTH  EXERANY  HTF  HTI  SMOKE100  WEIGHT  WTDESIRE  AGE  SEX  \\\n",
       "125238        2      NaN    5    4         2     777       NaN   30    2   \n",
       "151999        2      NaN    5    0         2     777       NaN    7    2   \n",
       "41722         3      NaN    5    3         2     777       NaN   43    2   \n",
       "6870          3      NaN    5    6         1     999       NaN   51    2   \n",
       "45785         3      NaN    5    4         1     999       NaN   55    2   \n",
       "...         ...      ...  ...  ...       ...     ...       ...  ...  ...   \n",
       "71479         2      1.0    5    2         2     999       NaN   44    2   \n",
       "89276         5      2.0    5    2         1     999       NaN   67    2   \n",
       "79691         3      NaN    5    7         1     999       NaN    9    2   \n",
       "18108         2      NaN    5    4         2     999       NaN    9    2   \n",
       "53809         5      NaN    5    2         1     999       NaN   37    2   \n",
       "\n",
       "        heightin         BMI  \n",
       "125238        64  133.357178  \n",
       "151999        60  151.730833  \n",
       "41722         63  137.624339  \n",
       "6870          66  161.225207  \n",
       "45785         64  171.459229  \n",
       "...          ...         ...  \n",
       "71479         62  182.699532  \n",
       "89276         62  182.699532  \n",
       "79691         67  156.448429  \n",
       "18108         64  171.459229  \n",
       "53809         62  182.699532  \n",
       "\n",
       "[887 rows x 11 columns]"
      ]
     },
     "execution_count": 16,
     "metadata": {},
     "output_type": "execute_result"
    }
   ],
   "source": [
    "#Check to see what the dataframe looks like for the outliers (notice the values in the weight column).\n",
    "sample_df[sample_df.BMI>100]"
   ]
  },
  {
   "cell_type": "code",
   "execution_count": 17,
   "metadata": {},
   "outputs": [
    {
     "data": {
      "image/png": "[encoded data removed]",
      "text/plain": [
       "<Figure size 432x288 with 1 Axes>"
      ]
     },
     "metadata": {
      "needs_background": "light"
     },
     "output_type": "display_data"
    }
   ],
   "source": [
    "#Plot the distribution of BMI under 100.\n",
    "plt.hist(sample_df[sample_df.BMI<100].BMI, bins=30)\n",
    "plt.title('Distribution of the BMI')\n",
    "plt.xlabel('BMI')\n",
    "plt.ylabel('Number of Cases')\n",
    "plt.show()"
   ]
  },
  {
   "cell_type": "markdown",
   "metadata": {},
   "source": [
    "Here we can clearly see the distribution."
   ]
  }
 ],
 "metadata": {
  "date": "",
  "kernelspec": {
   "display_name": "Python 3 (ipykernel)",
   "language": "python",
   "name": "python3"
  },
  "language_info": {
   "codemirror_mode": {
    "name": "ipython",
    "version": 3
   },
   "file_extension": ".py",
   "mimetype": "text/x-python",
   "name": "python",
   "nbconvert_exporter": "python",
   "pygments_lexer": "ipython3",
   "version": "3.7.4"
  },
  "title": ""
 },
 "nbformat": 4,
 "nbformat_minor": 4
}
